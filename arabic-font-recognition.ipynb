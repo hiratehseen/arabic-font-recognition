{
 "cells": [
  {
   "cell_type": "markdown",
   "metadata": {},
   "source": [
    "## Import Libraries"
   ]
  },
  {
   "cell_type": "code",
   "execution_count": 1,
   "metadata": {},
   "outputs": [],
   "source": [
    "from matplotlib.pyplot import imshow\n",
    "import matplotlib.cm as cm\n",
    "import matplotlib.pylab as plt\n",
    "from keras.preprocessing.image import ImageDataGenerator\n",
    "import numpy as np\n",
    "import PIL\n",
    "from PIL import ImageFilter\n",
    "import cv2\n",
    "import itertools\n",
    "import random\n",
    "import keras\n",
    "from keras import utils as np_utils\n",
    "import tensorflow as tf\n",
    "import imutils\n",
    "from imutils import paths\n",
    "import os\n",
    "from keras import optimizers\n",
    "from tensorflow.keras.utils import img_to_array\n",
    "from sklearn.model_selection import train_test_split\n",
    "from tensorflow.keras.utils import to_categorical\n",
    "from keras import callbacks\n",
    "from keras.models import Sequential\n",
    "from keras.layers import Dense, Dropout, Flatten, BatchNormalization\n",
    "from keras.layers import Conv2D, MaxPooling2D , UpSampling2D ,Conv2DTranspose, Conv1D, MaxPooling1D, UpSampling1D\n",
    "from keras import backend as K\n",
    "import pandas as pd\n",
    "# %matplotlib inline"
   ]
  },
  {
   "cell_type": "code",
   "execution_count": 2,
   "metadata": {},
   "outputs": [],
   "source": [
    "def pil_image(img_path):\n",
    "    # convert image into gray scale\n",
    "    pil_im =PIL.Image.open(img_path).convert('L')\n",
    "    # resize image 105x105\n",
    "    pil_im=pil_im.resize((105,105))\n",
    "    #imshow(np.asarray(pil_im))\n",
    "    return pil_im"
   ]
  },
  {
   "cell_type": "markdown",
   "metadata": {},
   "source": [
    "## Augumentation Steps\n",
    "1) Noise 2) Blur 3) Perpective Rotation 4) Shading 5) Variable Character Spacing 6) Variable Aspect Ratio"
   ]
  },
  {
   "cell_type": "code",
   "execution_count": 3,
   "metadata": {},
   "outputs": [],
   "source": [
    "def noise_image(pil_im):\n",
    "    # Adding Noise to image\n",
    "    img_array = np.asarray(pil_im)\n",
    "    mean = 0.0   # some constant\n",
    "    std = 5   # some constant (standard deviation)\n",
    "    noisy_img = img_array + np.random.normal(mean, std, img_array.shape)\n",
    "    noisy_img_clipped = np.clip(noisy_img, 0, 255)\n",
    "    noise_img = PIL.Image.fromarray(np.uint8(noisy_img_clipped)) # output\n",
    "    #imshow((noisy_img_clipped ).astype(np.uint8))\n",
    "    noise_img=noise_img.resize((105,105))\n",
    "    return noise_img\n"
   ]
  },
  {
   "cell_type": "code",
   "execution_count": 4,
   "metadata": {},
   "outputs": [],
   "source": [
    "def blur_image(pil_im):\n",
    "    #Adding Blur to image \n",
    "    blur_img = pil_im.filter(ImageFilter.GaussianBlur(radius=3)) # ouput\n",
    "    #imshow(blur_img)\n",
    "    blur_img=blur_img.resize((105,105))\n",
    "    return blur_img"
   ]
  },
  {
   "cell_type": "code",
   "execution_count": 5,
   "metadata": {},
   "outputs": [],
   "source": [
    "def affine_rotation(img):\n",
    "    \n",
    "    #img=cv2.imread(img_path,0)\n",
    "    rows, columns = img.shape\n",
    "\n",
    "    point1 = np.float32([[10, 10], [30, 10], [10, 30]])\n",
    "    point2 = np.float32([[20, 15], [40, 10], [20, 40]])\n",
    "\n",
    "    A = cv2.getAffineTransform(point1, point2)\n",
    "\n",
    "    output = cv2.warpAffine(img, A, (columns, rows))\n",
    "    affine_img = PIL.Image.fromarray(np.uint8(output)) # affine rotated output\n",
    "    #imshow(output)\n",
    "    affine_img=affine_img.resize((105,105))\n",
    "    return affine_img"
   ]
  },
  {
   "cell_type": "code",
   "execution_count": 6,
   "metadata": {},
   "outputs": [],
   "source": [
    "def gradient_fill(image):\n",
    "    #image=cv2.imread(img_path,0)\n",
    "    laplacian = cv2.Laplacian(image,cv2.CV_64F)\n",
    "    laplacian = cv2.resize(laplacian, (105, 105))\n",
    "    return laplacian"
   ]
  },
  {
   "cell_type": "markdown",
   "metadata": {},
   "source": [
    "## Preparing Dataset"
   ]
  },
  {
   "cell_type": "code",
   "execution_count": 7,
   "metadata": {},
   "outputs": [],
   "source": [
    "data_path = \"ARABIC_dataset\"\n",
    "data=[]\n",
    "labels=[]\n",
    "imagePaths = sorted(list(paths.list_images(data_path)))\n",
    "random.seed(42)\n",
    "random.shuffle(imagePaths)"
   ]
  },
  {
   "cell_type": "code",
   "execution_count": 8,
   "metadata": {},
   "outputs": [],
   "source": [
    "def conv_label(label):\n",
    "    if label == 'Diwani':\n",
    "        return 0\n",
    "    elif label == 'Kufi':\n",
    "        return 1\n",
    "    elif label == 'Maghribi':\n",
    "        return 2\n",
    "    elif label == 'Mohakek':\n",
    "        return 3\n",
    "    elif label == 'Parsi':\n",
    "        return 4"
   ]
  },
  {
   "cell_type": "code",
   "execution_count": 9,
   "metadata": {},
   "outputs": [
    {
     "name": "stdout",
     "output_type": "stream",
     "text": [
      "['blur', 'noise', 'affine', 'gradient']\n",
      "466\n"
     ]
    }
   ],
   "source": [
    "augument=[\"blur\",\"noise\",\"affine\",\"gradient\"]\n",
    "a=itertools.combinations(augument, 4)\n",
    "\n",
    "for i in list(a): \n",
    "    print(list(i))\n",
    "\n",
    "print(len(imagePaths))"
   ]
  },
  {
   "cell_type": "code",
   "execution_count": 10,
   "metadata": {},
   "outputs": [
    {
     "data": {
      "text/plain": [
       "'Diwani'"
      ]
     },
     "execution_count": 10,
     "metadata": {},
     "output_type": "execute_result"
    }
   ],
   "source": [
    "imagePaths[0].split(os.path.sep)[-2]"
   ]
  },
  {
   "cell_type": "code",
   "execution_count": 11,
   "metadata": {},
   "outputs": [],
   "source": [
    "## Augment Function for Images"
   ]
  },
  {
   "cell_type": "code",
   "execution_count": 12,
   "metadata": {},
   "outputs": [
    {
     "name": "stdout",
     "output_type": "stream",
     "text": [
      "7456\n"
     ]
    }
   ],
   "source": [
    "counter=0\n",
    "for imagePath in imagePaths:\n",
    "    label = imagePath.split(os.path.sep)[-2]\n",
    "    label = conv_label(label)\n",
    "    pil_img = pil_image(imagePath)\n",
    "    #imshow(pil_img)\n",
    "    \n",
    "    # Adding original image\n",
    "    org_img = img_to_array(pil_img)\n",
    "    #print(org_img.shape)\n",
    "    data.append(org_img)\n",
    "    labels.append(label)\n",
    "    \n",
    "    augument=[\"noise\",\"blur\",\"affine\",\"gradient\"]\n",
    "    for l in range(0,len(augument)):\n",
    "    \n",
    "        a=itertools.combinations(augument, l+1)\n",
    "\n",
    "        for i in list(a): \n",
    "            combinations=list(i)\n",
    "            #print(len(combinations))\n",
    "            temp_img = pil_img\n",
    "            for j in combinations:\n",
    "            \n",
    "                if j == 'noise':\n",
    "                    # Adding Noise image\n",
    "                    temp_img = noise_image(temp_img)\n",
    "                    \n",
    "                elif j == 'blur':\n",
    "                    # Adding Blur image\n",
    "                    temp_img = blur_image(temp_img)\n",
    "                    #imshow(blur_img)\n",
    "                    \n",
    "    \n",
    "                elif j == 'affine':\n",
    "                    open_cv_affine = np.array(pil_img)\n",
    "                    # Adding affine rotation image\n",
    "                    temp_img = affine_rotation(open_cv_affine)\n",
    "\n",
    "                elif j == 'gradient':\n",
    "                    open_cv_gradient = np.array(pil_img)\n",
    "                    # Adding gradient image\n",
    "                    temp_img = gradient_fill(open_cv_gradient)\n",
    "  \n",
    "            temp_img = img_to_array(temp_img)\n",
    "            data.append(temp_img)\n",
    "            labels.append(label)\n",
    "\n",
    "print(len(data))"
   ]
  },
  {
   "cell_type": "code",
   "execution_count": 13,
   "metadata": {},
   "outputs": [
    {
     "name": "stdout",
     "output_type": "stream",
     "text": [
      "Success\n"
     ]
    }
   ],
   "source": [
    "data = np.asarray(data, dtype=\"int\") / 255.0\n",
    "labels = np.array(labels)\n",
    "print(\"Success\")"
   ]
  },
  {
   "cell_type": "code",
   "execution_count": 14,
   "metadata": {},
   "outputs": [
    {
     "data": {
      "text/plain": [
       "array([0, 0, 0, ..., 3, 3, 3])"
      ]
     },
     "execution_count": 14,
     "metadata": {},
     "output_type": "execute_result"
    }
   ],
   "source": [
    "labels"
   ]
  },
  {
   "cell_type": "code",
   "execution_count": 15,
   "metadata": {},
   "outputs": [
    {
     "name": "stdout",
     "output_type": "stream",
     "text": [
      "[[0. 0. 0. 1. 0.]\n",
      " [0. 0. 0. 0. 1.]\n",
      " [0. 0. 0. 0. 1.]\n",
      " ...\n",
      " [0. 0. 0. 0. 1.]\n",
      " [0. 1. 0. 0. 0.]\n",
      " [0. 0. 0. 0. 1.]]\n",
      "[[0. 0. 0. 0. 1.]\n",
      " [1. 0. 0. 0. 0.]\n",
      " [0. 0. 0. 0. 1.]\n",
      " ...\n",
      " [1. 0. 0. 0. 0.]\n",
      " [0. 0. 0. 0. 1.]\n",
      " [0. 0. 1. 0. 0.]]\n"
     ]
    }
   ],
   "source": [
    "# partition the data into training and testing splits using 75% of\n",
    "# the data for training and the remaining 25% for testing\n",
    "(trainX, testX, trainY, testY) =  train_test_split(data,labels, test_size=0.25, random_state=42)\n",
    "# convert the labels from integers to vectors\n",
    "try:\n",
    "    trainY = to_categorical(trainY, num_classes=5) ## input of to_categorial is class vector of integers\n",
    "    print(trainY)\n",
    "except Exception as ex:\n",
    "    trainY = None\n",
    "    print(ex)\n",
    "try:\n",
    "    testY = to_categorical(testY, num_classes=5)\n",
    "    print(testY)\n",
    "except Exception as ex:\n",
    "    testY = None\n",
    "    print(ex)"
   ]
  },
  {
   "cell_type": "code",
   "execution_count": 16,
   "metadata": {},
   "outputs": [],
   "source": [
    "aug = ImageDataGenerator(rotation_range=30, width_shift_range=0.1,height_shift_range=0.1, shear_range=0.2, zoom_range=0.2,horizontal_flip=True)"
   ]
  },
  {
   "cell_type": "code",
   "execution_count": 17,
   "metadata": {},
   "outputs": [
    {
     "data": {
      "text/plain": [
       "'channels_last'"
      ]
     },
     "execution_count": 17,
     "metadata": {},
     "output_type": "execute_result"
    }
   ],
   "source": [
    "K.image_data_format()"
   ]
  },
  {
   "cell_type": "markdown",
   "metadata": {},
   "source": [
    "## LPQ Feature Calculation"
   ]
  },
  {
   "cell_type": "code",
   "execution_count": 18,
   "metadata": {},
   "outputs": [],
   "source": [
    "# coding: utf-8\n",
    "import numpy as np\n",
    "from scipy.signal import convolve2d\n",
    "\n",
    "class LPQ(object):\n",
    "    \"\"\" This implementation of Local Phase Quantization (LPQ) is a \n",
    "      \n",
    "      Reference: \n",
    "        Ojansivu V & Heikkilä J (2008) Blur insensitive texture classification \n",
    "        using local phase quantization. Proc. Image and Signal Processing \n",
    "\t(ICISP 2008), Cherbourg-Octeville, France, 5099:236-243.\n",
    "        Copyright 2008 by Heikkilä & Ojansivu\n",
    "    \"\"\"\n",
    "\n",
    "    def __init__(self, radius=3):\n",
    "        self.radius = radius\n",
    "\n",
    "    def euc_dist(self, X):\n",
    "        Y = X = X.astype(np.float)\n",
    "        XX = np.sum(X * X, axis=1)[:, np.newaxis]\n",
    "        YY = XX.T\n",
    "        distances = np.dot(X,Y.T)\n",
    "        distances *= -2\n",
    "        distances += XX\n",
    "        distances += YY\n",
    "        np.maximum(distances, 0, distances)\n",
    "        distances.flat[::distances.shape[0] + 1] = 0.0\n",
    "        return np.sqrt(distances)\n",
    "\n",
    "    def __call__(self,X):\n",
    "        f = 1.0\n",
    "        x = np.arange(-self.radius,self.radius+1)\n",
    "        n = len(x)\n",
    "        rho = 0.95\n",
    "        [xp, yp] = np.meshgrid(np.arange(1,(n+1)),np.arange(1,(n+1)))\n",
    "        pp = np.concatenate((xp,yp)).reshape(2,-1)\n",
    "        dd = self.euc_dist(pp.T) # squareform(pdist(...)) would do the job, too...\n",
    "        C = np.power(rho,dd)\n",
    "\n",
    "        w0 = (x*0.0+1.0)\n",
    "        w1 = np.exp(-2*np.pi*1j*x*f/n)\n",
    "        w2 = np.conj(w1)\n",
    "\n",
    "        q1 = w0.reshape(-1,1)*w1\n",
    "        q2 = w1.reshape(-1,1)*w0\n",
    "        q3 = w1.reshape(-1,1)*w1\n",
    "        q4 = w1.reshape(-1,1)*w2\n",
    "\n",
    "        u1 = np.real(q1)\n",
    "        u2 = np.imag(q1)\n",
    "        u3 = np.real(q2)\n",
    "        u4 = np.imag(q2)\n",
    "        u5 = np.real(q3)\n",
    "        u6 = np.imag(q3)\n",
    "        u7 = np.real(q4)\n",
    "        u8 = np.imag(q4)\n",
    "\n",
    "        M = np.matrix([u1.flatten(), u2.flatten(), u3.flatten(), u4.flatten(), u5.flatten(), u6.flatten(), u7.flatten(), u8.flatten()])\n",
    "\n",
    "        D = np.dot(np.dot(M,C), M.T)\n",
    "        U,S,V = np.linalg.svd(D)\n",
    "\n",
    "        Qa = convolve2d(convolve2d(X,w0.reshape(-1,1),mode='same'),w1.reshape(1,-1),mode='same')\n",
    "        Qb = convolve2d(convolve2d(X,w1.reshape(-1,1),mode='same'),w0.reshape(1,-1),mode='same')\n",
    "        Qc = convolve2d(convolve2d(X,w1.reshape(-1,1),mode='same'),w1.reshape(1,-1),mode='same')\n",
    "        Qd = convolve2d(convolve2d(X, w1.reshape(-1,1),mode='same'),w2.reshape(1,-1),mode='same')\n",
    "\n",
    "        Fa = np.real(Qa)\n",
    "        Ga = np.imag(Qa)\n",
    "        Fb = np.real(Qb) \n",
    "        Gb = np.imag(Qb)\n",
    "        Fc = np.real(Qc) \n",
    "        Gc = np.imag(Qc)\n",
    "        Fd = np.real(Qd) \n",
    "        Gd = np.imag(Qd)\n",
    "\n",
    "        F = np.array([Fa.flatten(), Ga.flatten(), Fb.flatten(), Gb.flatten(), Fc.flatten(), Gc.flatten(), Fd.flatten(), Gd.flatten()])\n",
    "        G = np.dot(V.T, F)\n",
    "\n",
    "        t = 0\n",
    "\n",
    "        # Calculate the LPQ Patterns:\n",
    "        B = (G[0,:]>=t)*1 + (G[1,:]>=t)*2 + (G[2,:]>=t)*4 + (G[3,:]>=t)*8 + (G[4,:]>=t)*16 + (G[5,:]>=t)*32 + (G[6,:]>=t)*64 + (G[7,:]>=t)*128\n",
    "        B = np.reshape(B, np.shape(Fa))\n",
    "\n",
    "        # And finally build the histogram:\n",
    "        h, b  = np.histogram(B, bins=256, range = (0,255))\n",
    "\n",
    "        return h\n",
    "\n",
    "    def __repr__(self):\n",
    "        return \"LPQ (radius=%s)\" % (self.radius)\n",
    "\n",
    "#len(trainX)\n",
    "#\n",
    "#trainX.shape\n",
    "\n",
    "lpq = LPQ(3)\n",
    "\n",
    "#lpq"
   ]
  },
  {
   "cell_type": "markdown",
   "metadata": {},
   "source": [
    "# Calculate Testing LPQ Features"
   ]
  },
  {
   "cell_type": "code",
   "execution_count": 20,
   "metadata": {},
   "outputs": [
    {
     "name": "stderr",
     "output_type": "stream",
     "text": [
      "C:\\Users\\hira\\AppData\\Local\\Temp\\ipykernel_6592\\4092051846.py:19: DeprecationWarning: `np.float` is a deprecated alias for the builtin `float`. To silence this warning, use `float` by itself. Doing this will not modify any behavior and is safe. If you specifically wanted the numpy scalar type, use `np.float64` here.\n",
      "Deprecated in NumPy 1.20; for more details and guidance: https://numpy.org/devdocs/release/1.20.0-notes.html#deprecations\n",
      "  Y = X = X.astype(np.float)\n"
     ]
    },
    {
     "name": "stdout",
     "output_type": "stream",
     "text": [
      "(1864, 256)\n",
      "5592\n",
      "1864\n"
     ]
    }
   ],
   "source": [
    "dim = (testX.shape[1],testX.shape[1])\n",
    "test_feat =[]\n",
    "for i in range(len(testX)):\n",
    "    X= testX[i]\n",
    "    X = X.reshape(dim)\n",
    "    lpq_feat = lpq(X)\n",
    "    test_feat.append(lpq_feat)\n",
    "\n",
    "test_feat = np.array(test_feat)\n",
    "print(test_feat.shape)\n",
    "numTrain = int(pd.to_numeric(trainX.shape[0]))\n",
    "print(numTrain)\n",
    "numTest = int(pd.to_numeric(testX.shape[0]))\n",
    "print(numTest)"
   ]
  },
  {
   "cell_type": "markdown",
   "metadata": {},
   "source": [
    "# Model"
   ]
  },
  {
   "cell_type": "code",
   "execution_count": 21,
   "metadata": {},
   "outputs": [],
   "source": [
    "model = Sequential()\n",
    "model.add(Conv1D(filters=32, kernel_size=12, input_shape=(256,1)))\n",
    "model.add(BatchNormalization())\n",
    "model.add(MaxPooling1D(pool_size=2))\n",
    "\n",
    "model.add(Conv1D(64, kernel_size=24, activation='relu'))\n",
    "model.add(BatchNormalization())\n",
    "model.add(MaxPooling1D(pool_size=2))\n",
    "\n",
    "model.add(Conv1D(256, kernel_size=12, activation='relu'))\n",
    "model.add(Conv1D(256, kernel_size=12, activation='relu'))\n",
    "model.add(Conv1D(256, kernel_size=12, activation='relu'))\n",
    "\n",
    "model.add(Flatten())\n",
    "model.add(Dense(4096, activation='relu'))\n",
    "model.add(Dropout(0.5))\n",
    "model.add(Dense(4096,activation='relu'))\n",
    "model.add(Dropout(0.5))\n",
    "model.add(Dense(2383,activation='relu'))\n",
    "model.add(Dropout(0.5))\n",
    "model.add(Dense(128, activation='relu'))\n",
    "model.add(Dense(5, activation='softmax'))"
   ]
  },
  {
   "cell_type": "markdown",
   "metadata": {},
   "source": [
    "## Model Compilation "
   ]
  },
  {
   "cell_type": "code",
   "execution_count": 22,
   "metadata": {},
   "outputs": [
    {
     "name": "stderr",
     "output_type": "stream",
     "text": [
      "C:\\Users\\hira\\AppData\\Roaming\\Python\\Python39\\site-packages\\keras\\optimizers\\optimizer_v2\\gradient_descent.py:114: UserWarning: The `lr` argument is deprecated, use `learning_rate` instead.\n",
      "  super().__init__(name, **kwargs)\n"
     ]
    }
   ],
   "source": [
    "# reshaping LPQ training and testing features according to input of CNN here 256 is no of features per image\n",
    "train_feat = train_feat.reshape((len(train_feat),256,1))\n",
    "test_feat = test_feat.reshape((len(test_feat),256,1))\n",
    "batch_size = 16\n",
    "epochs = 15\n",
    "sgd = optimizers.SGD(lr=0.01, decay=1e-6, momentum=0.9, nesterov=True)\n",
    "model.compile(loss='mean_squared_error', optimizer=sgd, metrics=['accuracy'])\n",
    "\n",
    "early_stopping=callbacks.EarlyStopping(monitor='val_loss', min_delta=0, patience=10, verbose=0, mode='min')"
   ]
  },
  {
   "cell_type": "markdown",
   "metadata": {},
   "source": [
    "## Model Training"
   ]
  },
  {
   "cell_type": "code",
   "execution_count": 23,
   "metadata": {
    "scrolled": false
   },
   "outputs": [
    {
     "name": "stdout",
     "output_type": "stream",
     "text": [
      "Model: \"sequential\"\n",
      "_________________________________________________________________\n",
      " Layer (type)                Output Shape              Param #   \n",
      "=================================================================\n",
      " conv1d (Conv1D)             (None, 245, 32)           416       \n",
      "                                                                 \n",
      " batch_normalization (BatchN  (None, 245, 32)          128       \n",
      " ormalization)                                                   \n",
      "                                                                 \n",
      " max_pooling1d (MaxPooling1D  (None, 122, 32)          0         \n",
      " )                                                               \n",
      "                                                                 \n",
      " conv1d_1 (Conv1D)           (None, 99, 64)            49216     \n",
      "                                                                 \n",
      " batch_normalization_1 (Batc  (None, 99, 64)           256       \n",
      " hNormalization)                                                 \n",
      "                                                                 \n",
      " max_pooling1d_1 (MaxPooling  (None, 49, 64)           0         \n",
      " 1D)                                                             \n",
      "                                                                 \n",
      " conv1d_2 (Conv1D)           (None, 38, 256)           196864    \n",
      "                                                                 \n",
      " conv1d_3 (Conv1D)           (None, 27, 256)           786688    \n",
      "                                                                 \n",
      " conv1d_4 (Conv1D)           (None, 16, 256)           786688    \n",
      "                                                                 \n",
      " flatten (Flatten)           (None, 4096)              0         \n",
      "                                                                 \n",
      " dense (Dense)               (None, 4096)              16781312  \n",
      "                                                                 \n",
      " dropout (Dropout)           (None, 4096)              0         \n",
      "                                                                 \n",
      " dense_1 (Dense)             (None, 4096)              16781312  \n",
      "                                                                 \n",
      " dropout_1 (Dropout)         (None, 4096)              0         \n",
      "                                                                 \n",
      " dense_2 (Dense)             (None, 2383)              9763151   \n",
      "                                                                 \n",
      " dropout_2 (Dropout)         (None, 2383)              0         \n",
      "                                                                 \n",
      " dense_3 (Dense)             (None, 128)               305152    \n",
      "                                                                 \n",
      " dense_4 (Dense)             (None, 5)                 645       \n",
      "                                                                 \n",
      "=================================================================\n",
      "Total params: 45,451,828\n",
      "Trainable params: 45,451,636\n",
      "Non-trainable params: 192\n",
      "_________________________________________________________________\n",
      "None\n",
      "Epoch 1/15\n",
      "350/350 [==============================] - ETA: 0s - loss: 0.1407 - accuracy: 0.4270\n",
      "Epoch 1: val_loss improved from inf to 0.10154, saving model to model.h5\n",
      "350/350 [==============================] - 235s 657ms/step - loss: 0.1407 - accuracy: 0.4270 - val_loss: 0.1015 - val_accuracy: 0.6615\n",
      "Epoch 2/15\n",
      "350/350 [==============================] - ETA: 0s - loss: 0.0637 - accuracy: 0.7716\n",
      "Epoch 2: val_loss improved from 0.10154 to 0.04467, saving model to model.h5\n",
      "350/350 [==============================] - 217s 622ms/step - loss: 0.0637 - accuracy: 0.7716 - val_loss: 0.0447 - val_accuracy: 0.8444\n",
      "Epoch 3/15\n",
      "350/350 [==============================] - ETA: 0s - loss: 0.0294 - accuracy: 0.9050\n",
      "Epoch 3: val_loss improved from 0.04467 to 0.02112, saving model to model.h5\n",
      "350/350 [==============================] - 246s 704ms/step - loss: 0.0294 - accuracy: 0.9050 - val_loss: 0.0211 - val_accuracy: 0.9286\n",
      "Epoch 4/15\n",
      "350/350 [==============================] - ETA: 0s - loss: 0.0182 - accuracy: 0.9405\n",
      "Epoch 4: val_loss improved from 0.02112 to 0.01420, saving model to model.h5\n",
      "350/350 [==============================] - 281s 802ms/step - loss: 0.0182 - accuracy: 0.9405 - val_loss: 0.0142 - val_accuracy: 0.9544\n",
      "Epoch 5/15\n",
      "350/350 [==============================] - ETA: 0s - loss: 0.0131 - accuracy: 0.9578\n",
      "Epoch 5: val_loss did not improve from 0.01420\n",
      "350/350 [==============================] - 268s 761ms/step - loss: 0.0131 - accuracy: 0.9578 - val_loss: 0.0154 - val_accuracy: 0.9506\n",
      "Epoch 6/15\n",
      "350/350 [==============================] - ETA: 0s - loss: 0.0106 - accuracy: 0.9669\n",
      "Epoch 6: val_loss improved from 0.01420 to 0.01153, saving model to model.h5\n",
      "350/350 [==============================] - 289s 827ms/step - loss: 0.0106 - accuracy: 0.9669 - val_loss: 0.0115 - val_accuracy: 0.9614\n",
      "Epoch 7/15\n",
      "350/350 [==============================] - ETA: 0s - loss: 0.0077 - accuracy: 0.9755\n",
      "Epoch 7: val_loss improved from 0.01153 to 0.00902, saving model to model.h5\n",
      "350/350 [==============================] - 280s 800ms/step - loss: 0.0077 - accuracy: 0.9755 - val_loss: 0.0090 - val_accuracy: 0.9689\n",
      "Epoch 8/15\n",
      "350/350 [==============================] - ETA: 0s - loss: 0.0074 - accuracy: 0.9748\n",
      "Epoch 8: val_loss improved from 0.00902 to 0.00717, saving model to model.h5\n",
      "350/350 [==============================] - 250s 712ms/step - loss: 0.0074 - accuracy: 0.9748 - val_loss: 0.0072 - val_accuracy: 0.9764\n",
      "Epoch 9/15\n",
      "350/350 [==============================] - ETA: 0s - loss: 0.0056 - accuracy: 0.9809\n",
      "Epoch 9: val_loss improved from 0.00717 to 0.00675, saving model to model.h5\n",
      "350/350 [==============================] - 225s 641ms/step - loss: 0.0056 - accuracy: 0.9809 - val_loss: 0.0068 - val_accuracy: 0.9769\n",
      "Epoch 10/15\n",
      "350/350 [==============================] - ETA: 0s - loss: 0.0055 - accuracy: 0.9807\n",
      "Epoch 10: val_loss did not improve from 0.00675\n",
      "350/350 [==============================] - 226s 646ms/step - loss: 0.0055 - accuracy: 0.9807 - val_loss: 0.0090 - val_accuracy: 0.9710\n",
      "Epoch 11/15\n",
      "350/350 [==============================] - ETA: 0s - loss: 0.0055 - accuracy: 0.9823\n",
      "Epoch 11: val_loss improved from 0.00675 to 0.00499, saving model to model.h5\n",
      "350/350 [==============================] - 235s 669ms/step - loss: 0.0055 - accuracy: 0.9823 - val_loss: 0.0050 - val_accuracy: 0.9839\n",
      "Epoch 12/15\n",
      "350/350 [==============================] - ETA: 0s - loss: 0.0046 - accuracy: 0.9857\n",
      "Epoch 12: val_loss did not improve from 0.00499\n",
      "350/350 [==============================] - 220s 629ms/step - loss: 0.0046 - accuracy: 0.9857 - val_loss: 0.0067 - val_accuracy: 0.9769\n",
      "Epoch 13/15\n",
      "350/350 [==============================] - ETA: 0s - loss: 0.0033 - accuracy: 0.9891\n",
      "Epoch 13: val_loss did not improve from 0.00499\n",
      "350/350 [==============================] - 226s 647ms/step - loss: 0.0033 - accuracy: 0.9891 - val_loss: 0.0066 - val_accuracy: 0.9796\n",
      "Epoch 14/15\n",
      "350/350 [==============================] - ETA: 0s - loss: 0.0029 - accuracy: 0.9909\n",
      "Epoch 14: val_loss improved from 0.00499 to 0.00467, saving model to model.h5\n",
      "350/350 [==============================] - 265s 758ms/step - loss: 0.0029 - accuracy: 0.9909 - val_loss: 0.0047 - val_accuracy: 0.9855\n",
      "Epoch 15/15\n",
      "350/350 [==============================] - ETA: 0s - loss: 0.0025 - accuracy: 0.9916\n",
      "Epoch 15: val_loss did not improve from 0.00467\n",
      "350/350 [==============================] - 343s 980ms/step - loss: 0.0025 - accuracy: 0.9916 - val_loss: 0.0057 - val_accuracy: 0.9818\n"
     ]
    }
   ],
   "source": [
    "# file path where the model weights will be stored\n",
    "filepath=\"model.h5\"\n",
    "\n",
    "checkpoint = callbacks.ModelCheckpoint(filepath, monitor='val_loss', verbose=1, save_best_only=True, mode='min')\n",
    "\n",
    "callbacks_list = [early_stopping,checkpoint]\n",
    "\n",
    "print(model.summary())\n",
    "\n",
    "history = model.fit(train_feat, trainY,shuffle=True,\n",
    "          batch_size=batch_size,\n",
    "          epochs=epochs,\n",
    "          verbose=1,\n",
    "          validation_data=(test_feat, testY),callbacks=callbacks_list)"
   ]
  },
  {
   "cell_type": "markdown",
   "metadata": {},
   "source": [
    "## Loss and Accuracy Curve of Model"
   ]
  },
  {
   "cell_type": "code",
   "execution_count": 24,
   "metadata": {},
   "outputs": [
    {
     "name": "stdout",
     "output_type": "stream",
     "text": [
      "dict_keys(['loss', 'accuracy', 'val_loss', 'val_accuracy'])\n"
     ]
    },
    {
     "data": {
      "image/png": "[encoded data removed]",
      "text/plain": [
       "<Figure size 432x288 with 1 Axes>"
      ]
     },
     "metadata": {
      "needs_background": "light"
     },
     "output_type": "display_data"
    }
   ],
   "source": [
    "# list all data in history\n",
    "print(history.history.keys())\n",
    "# summarize history for accuracy\n",
    "plt.plot(history.history['accuracy'])\n",
    "plt.plot(history.history['val_accuracy'])\n",
    "plt.title('model accuracy')\n",
    "plt.ylabel('accuracy')\n",
    "plt.xlabel('epoch')\n",
    "plt.legend(['train', 'test'], loc='upper left')\n",
    "plt.show()\n"
   ]
  },
  {
   "cell_type": "code",
   "execution_count": 25,
   "metadata": {},
   "outputs": [
    {
     "data": {
      "image/png": "[encoded data removed]",
      "text/plain": [
       "<Figure size 432x288 with 1 Axes>"
      ]
     },
     "metadata": {
      "needs_background": "light"
     },
     "output_type": "display_data"
    }
   ],
   "source": [
    "# summarize history for loss\n",
    "plt.plot(history.history['loss'])\n",
    "plt.plot(history.history['val_loss'])\n",
    "plt.title('model loss')\n",
    "plt.ylabel('loss')\n",
    "plt.xlabel('epoch')\n",
    "plt.legend(['train', 'test'], loc='upper left')\n",
    "plt.show()"
   ]
  },
  {
   "cell_type": "markdown",
   "metadata": {},
   "source": [
    "## Load Save Model"
   ]
  },
  {
   "cell_type": "code",
   "execution_count": 26,
   "metadata": {},
   "outputs": [
    {
     "name": "stdout",
     "output_type": "stream",
     "text": [
      "Test loss: 0.004672890994697809\n",
      "Test accuracy: 0.9855149984359741\n"
     ]
    }
   ],
   "source": [
    "from keras.models import load_model\n",
    "model = load_model('model.h5')\n",
    "\n",
    "score = model.evaluate(test_feat, testY, verbose=0)\n",
    "print('Test loss:', score[0])\n",
    "print('Test accuracy:', score[1])"
   ]
  },
  {
   "cell_type": "code",
   "execution_count": null,
   "metadata": {},
   "outputs": [],
   "source": []
  }
 ],
 "metadata": {
  "kernelspec": {
   "display_name": "Python 3 (ipykernel)",
   "language": "python",
   "name": "python3"
  },
  "language_info": {
   "codemirror_mode": {
    "name": "ipython",
    "version": 3
   },
   "file_extension": ".py",
   "mimetype": "text/x-python",
   "name": "python",
   "nbconvert_exporter": "python",
   "pygments_lexer": "ipython3",
   "version": "3.9.12"
  }
 },
 "nbformat": 4,
 "nbformat_minor": 2
}
